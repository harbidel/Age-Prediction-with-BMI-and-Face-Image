{
  "nbformat": 4,
  "nbformat_minor": 0,
  "metadata": {
    "colab": {
      "provenance": [],
      "authorship_tag": "ABX9TyOl7RShE985HGjealJXU7Wm",
      "include_colab_link": true
    },
    "kernelspec": {
      "name": "python3",
      "display_name": "Python 3"
    },
    "language_info": {
      "name": "python"
    }
  },
  "cells": [
    {
      "cell_type": "markdown",
      "metadata": {
        "id": "view-in-github",
        "colab_type": "text"
      },
      "source": [
        "<a href=\"https://colab.research.google.com/github/harbidel/Age-Prediction-with-BMI-and-Face-Image/blob/main/BMI_%26_Face_Image.ipynb\" target=\"_parent\"><img src=\"https://colab.research.google.com/assets/colab-badge.svg\" alt=\"Open In Colab\"/></a>"
      ]
    },
    {
      "cell_type": "code",
      "execution_count": null,
      "metadata": {
        "id": "ufmgis0N7SWf"
      },
      "outputs": [],
      "source": [
        "import numpy as np\n",
        "import pandas as pd\n",
        "import tensorflow as tf\n",
        "from tensorflow.keras.layers import Input, Conv2D, MaxPooling2D, Flatten, Dense, Concatenate\n",
        "from tensorflow.keras.models import Model\n",
        "from tensorflow.keras.preprocessing.image import load_img, img_to_array\n",
        "from tensorflow.keras.applications.resnet50 import preprocess_input\n"
      ]
    },
    {
      "cell_type": "code",
      "source": [
        "# Load the dataset\n",
        "data_url = \"data.csv\"\n",
        "data = pd.read_csv(data_url)"
      ],
      "metadata": {
        "id": "OAuwlwcH7cfx"
      },
      "execution_count": null,
      "outputs": []
    },
    {
      "cell_type": "code",
      "source": [
        "# Preprocess images and create image arrays\n",
        "image_size = (128, 128)\n",
        "images = []\n",
        "for url in data['FACE IMAGE UPLOAD']:\n",
        "    img = load_img(url, target_size=image_size)\n",
        "    img_array = img_to_array(img)\n",
        "    img_array = preprocess_input(img_array)\n",
        "    images.append(img_array)\n",
        "images = np.array(images)"
      ],
      "metadata": {
        "id": "Pg8pTuMS7cia"
      },
      "execution_count": null,
      "outputs": []
    },
    {
      "cell_type": "code",
      "source": [
        "# Normalize other features\n",
        "bmi_data = data['BMI'].values.reshape(-1, 1)\n",
        "age_data = data['Age'].values"
      ],
      "metadata": {
        "id": "QSruJGPw7clf"
      },
      "execution_count": null,
      "outputs": []
    },
    {
      "cell_type": "code",
      "source": [
        "# Split the data into train, validation, and test sets\n",
        "num_samples = len(data)\n",
        "train_split = int(0.7 * num_samples)\n",
        "val_split = int(0.15 * num_samples)\n",
        "train_bmi, val_bmi, test_bmi = bmi_data[:train_split], bmi_data[train_split:train_split+val_split], bmi_data[train_split+val_split:]\n",
        "train_images, val_images, test_images = images[:train_split], images[train_split:train_split+val_split], images[train_split+val_split:]\n",
        "train_age, val_age, test_age = age_data[:train_split], age_data[train_split:train_split+val_split], age_data[train_split+val_split:]\n"
      ],
      "metadata": {
        "id": "SziYMbX57hVL"
      },
      "execution_count": null,
      "outputs": []
    },
    {
      "cell_type": "code",
      "source": [
        "# BMI branch\n",
        "bmi_input = Input(shape=(1,), name='bmi_input')\n",
        "bmi_output = Dense(16, activation='relu')(bmi_input)\n"
      ],
      "metadata": {
        "id": "K0FhgiPa7hZG"
      },
      "execution_count": null,
      "outputs": []
    },
    {
      "cell_type": "code",
      "source": [
        "# Image branch\n",
        "image_input = Input(shape=image_size + (3,), name='image_input')\n",
        "image_output = Conv2D(32, (3, 3), activation='relu')(image_input)\n",
        "image_output = MaxPooling2D((2, 2))(image_output)\n",
        "image_output = Flatten()(image_output)\n"
      ],
      "metadata": {
        "id": "8KjkwRQ_7hcH"
      },
      "execution_count": null,
      "outputs": []
    },
    {
      "cell_type": "code",
      "source": [
        "# Concatenate both branches\n",
        "concatenated = Concatenate()([bmi_output, image_output])\n"
      ],
      "metadata": {
        "id": "ObKKWOBc7heK"
      },
      "execution_count": null,
      "outputs": []
    },
    {
      "cell_type": "code",
      "source": [
        "# Fully connected layers for fusion and age prediction\n",
        "fusion_layer = Dense(64, activation='relu')(concatenated)\n",
        "output_layer = Dense(1, activation='linear', name='output')(fusion_layer)  # Linear activation for age prediction\n"
      ],
      "metadata": {
        "id": "UdbVM0oV7hhZ"
      },
      "execution_count": null,
      "outputs": []
    },
    {
      "cell_type": "code",
      "source": [
        "# Create the model\n",
        "model = Model(inputs=[bmi_input, image_input], outputs=output_layer)\n"
      ],
      "metadata": {
        "id": "TMLsK5TH7hk0"
      },
      "execution_count": null,
      "outputs": []
    },
    {
      "cell_type": "code",
      "source": [
        "# Compile the model\n",
        "model.compile(optimizer='adam', loss='mean_squared_error')\n"
      ],
      "metadata": {
        "id": "NvlwxX9Q7hoO"
      },
      "execution_count": null,
      "outputs": []
    },
    {
      "cell_type": "code",
      "source": [
        "# Train the model\n",
        "model.fit({'bmi_input': train_bmi, 'image_input': train_images}, train_age, epochs=10, batch_size=32,\n",
        "          validation_data=({'bmi_input': val_bmi, 'image_input': val_images}, val_age))\n"
      ],
      "metadata": {
        "id": "oSx2fLmS7co5"
      },
      "execution_count": null,
      "outputs": []
    },
    {
      "cell_type": "code",
      "source": [
        "# Evaluate the model\n",
        "test_loss = model.evaluate({'bmi_input': test_bmi, 'image_input': test_images}, test_age)\n",
        "print(\"Test Loss:\", test_loss)\n"
      ],
      "metadata": {
        "id": "4weK51Nc7wKr"
      },
      "execution_count": null,
      "outputs": []
    }
  ]
}